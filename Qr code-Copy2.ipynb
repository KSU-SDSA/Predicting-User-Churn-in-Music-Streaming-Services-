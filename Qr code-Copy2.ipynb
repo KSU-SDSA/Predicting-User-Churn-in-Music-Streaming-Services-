{
 "cells": [
  {
   "cell_type": "code",
   "execution_count": null,
   "id": "5b7c88f4-b8d4-400a-95a1-8e0671d131a8",
   "metadata": {},
   "outputs": [],
   "source": []
  },
  {
   "cell_type": "code",
   "execution_count": null,
   "id": "84254cf3-1c45-4326-852c-a81ba60001d6",
   "metadata": {},
   "outputs": [],
   "source": []
  },
  {
   "cell_type": "code",
   "execution_count": 1,
   "id": "0751ef3b-3bac-492f-b691-504d6a870992",
   "metadata": {},
   "outputs": [
    {
     "name": "stdout",
     "output_type": "stream",
     "text": [
      "Collecting qrcode\n",
      "  Downloading qrcode-8.0-py3-none-any.whl.metadata (17 kB)\n",
      "Requirement already satisfied: colorama in c:\\users\\dell\\anaconda3\\lib\\site-packages (from qrcode) (0.4.6)\n",
      "Downloading qrcode-8.0-py3-none-any.whl (45 kB)\n",
      "Installing collected packages: qrcode\n",
      "Successfully installed qrcode-8.0\n",
      "Note: you may need to restart the kernel to use updated packages.\n"
     ]
    }
   ],
   "source": [
    "pip install qrcode"
   ]
  },
  {
   "cell_type": "code",
   "execution_count": 1,
   "id": "6cf81edb-a46c-4ed1-9a85-42b1f53096c3",
   "metadata": {},
   "outputs": [
    {
     "name": "stdout",
     "output_type": "stream",
     "text": [
      "QR code saved to Project_qrcode.png\n"
     ]
    }
   ],
   "source": [
    "import qrcode\n",
    "from PIL import Image, ImageDraw, ImageFont\n",
    "\n",
    "def generate_qr_code(url, file_path=\"Project_qrcode.png\"):\n",
    "    # Generate the QR code\n",
    "    qr = qrcode.QRCode(\n",
    "        version=1,\n",
    "        error_correction=qrcode.constants.ERROR_CORRECT_L,\n",
    "        box_size=10,\n",
    "        border=4,\n",
    "    )\n",
    "    qr.add_data(url)\n",
    "    qr.make(fit=True)\n",
    "    img = qr.make_image(fill_color=\"black\", back_color=\"white\")\n",
    "\n",
    "    # Add text to the bottom of the image\n",
    "    draw = ImageDraw.Draw(img)\n",
    "    text = \"Project\"\n",
    "    \n",
    "    # Use a standard font\n",
    "    try:\n",
    "        font = ImageFont.truetype(\"arial.ttf\", size=20)  # Change to a more readable font\n",
    "    except IOError:\n",
    "        font = ImageFont.load_default()\n",
    "\n",
    "    bbox = draw.textbbox((0, 0), text, font=font)\n",
    "    text_width = bbox[2] - bbox[0]\n",
    "    text_height = bbox[3] - bbox[1]\n",
    "    text_position = ((img.width - text_width) // 2, img.height - text_height - 10)\n",
    "    \n",
    "    draw.text(text_position, text, fill=\"blue\", font=font)\n",
    "\n",
    "    # Save the image with the text\n",
    "    img.save(file_path)\n",
    "    print(f\"QR code saved to {file_path}\")\n",
    "\n",
    "generate_qr_code(\"https://colab.research.google.com/drive/1ay9yuTWbEk8ZCQc4xbLjRNT4Cdqtg3qF?usp=sharing\")\n"
   ]
  },
  {
   "cell_type": "code",
   "execution_count": null,
   "id": "42356675-ecc4-4ab3-93b1-1c9b11ed3c3b",
   "metadata": {},
   "outputs": [],
   "source": []
  },
  {
   "cell_type": "code",
   "execution_count": null,
   "id": "75ec2869-533d-4793-be37-0b8058005c06",
   "metadata": {},
   "outputs": [],
   "source": []
  },
  {
   "cell_type": "code",
   "execution_count": null,
   "id": "7b14149a-2955-4bc6-b13c-c2d831f95dd6",
   "metadata": {},
   "outputs": [],
   "source": []
  },
  {
   "cell_type": "code",
   "execution_count": null,
   "id": "30f4ed09-c5c4-455b-9a58-e9c06e3c84e4",
   "metadata": {},
   "outputs": [],
   "source": []
  },
  {
   "cell_type": "code",
   "execution_count": null,
   "id": "4b891bb1-063f-404d-acc4-215da547006d",
   "metadata": {},
   "outputs": [],
   "source": []
  }
 ],
 "metadata": {
  "kernelspec": {
   "display_name": "Python 3 (ipykernel)",
   "language": "python",
   "name": "python3"
  },
  "language_info": {
   "codemirror_mode": {
    "name": "ipython",
    "version": 3
   },
   "file_extension": ".py",
   "mimetype": "text/x-python",
   "name": "python",
   "nbconvert_exporter": "python",
   "pygments_lexer": "ipython3",
   "version": "3.12.7"
  }
 },
 "nbformat": 4,
 "nbformat_minor": 5
}
